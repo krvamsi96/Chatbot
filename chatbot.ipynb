{
  "nbformat": 4,
  "nbformat_minor": 0,
  "metadata": {
    "colab": {
      "name": "Untitled1.ipynb",
      "provenance": [],
      "authorship_tag": "ABX9TyMNRh9rZB/X1/CiNJrVjq0h",
      "include_colab_link": true
    },
    "kernelspec": {
      "name": "python3",
      "display_name": "Python 3"
    },
    "accelerator": "GPU"
  },
  "cells": [
    {
      "cell_type": "markdown",
      "metadata": {
        "id": "view-in-github",
        "colab_type": "text"
      },
      "source": [
        "<a href=\"https://colab.research.google.com/github/krvamsi96/Chatbot/blob/master/chatbot.ipynb\" target=\"_parent\"><img src=\"https://colab.research.google.com/assets/colab-badge.svg\" alt=\"Open In Colab\"/></a>"
      ]
    },
    {
      "cell_type": "code",
      "metadata": {
        "id": "ZjVFXT5ARm5v",
        "colab_type": "code",
        "colab": {}
      },
      "source": [
        "from chatterbot import ChatBot\n",
        "from chatterbot.trainers import ChatterBotCorpusTrainer\n",
        "import os"
      ],
      "execution_count": 6,
      "outputs": []
    },
    {
      "cell_type": "code",
      "metadata": {
        "id": "TmJS7Kn4Swwu",
        "colab_type": "code",
        "colab": {
          "base_uri": "https://localhost:8080/",
          "height": 417
        },
        "outputId": "21044fa3-3a9f-4c0a-a353-fd8fa880c0f8"
      },
      "source": [
        "os.listdir('/content/chatterbot-corpus/chatterbot_corpus/data')"
      ],
      "execution_count": 11,
      "outputs": [
        {
          "output_type": "execute_result",
          "data": {
            "text/plain": [
              "['korean',\n",
              " 'swedish',\n",
              " 'german',\n",
              " 'marathi',\n",
              " 'russian',\n",
              " 'chinese',\n",
              " 'french',\n",
              " 'english',\n",
              " 'thai',\n",
              " 'traditionalchinese',\n",
              " 'turkish',\n",
              " 'portuguese',\n",
              " 'persian',\n",
              " 'hebrew',\n",
              " 'oriya',\n",
              " 'italian',\n",
              " 'bengali',\n",
              " 'indonesian',\n",
              " 'telugu',\n",
              " 'hindi',\n",
              " 'spanish',\n",
              " 'japanese']"
            ]
          },
          "metadata": {
            "tags": []
          },
          "execution_count": 11
        }
      ]
    },
    {
      "cell_type": "code",
      "metadata": {
        "id": "8Qcsk7PATnS-",
        "colab_type": "code",
        "colab": {}
      },
      "source": [
        "x=ChatBot('Robot')"
      ],
      "execution_count": 12,
      "outputs": []
    },
    {
      "cell_type": "code",
      "metadata": {
        "id": "VIPjn1fnTu_D",
        "colab_type": "code",
        "colab": {
          "base_uri": "https://localhost:8080/",
          "height": 363
        },
        "outputId": "676e7a7a-4016-4dca-efb8-0ea088fb75f4"
      },
      "source": [
        "trainer=ChatterBotCorpusTrainer(x)\n",
        "trainer.train(\"/content/chatterbot-corpus/chatterbot_corpus/data/english\")"
      ],
      "execution_count": 16,
      "outputs": [
        {
          "output_type": "stream",
          "text": [
            "Training ai.yml: [####################] 100%\n",
            "Training botprofile.yml: [####################] 100%\n",
            "Training computers.yml: [####################] 100%\n",
            "Training conversations.yml: [####################] 100%\n",
            "Training emotion.yml: [####################] 100%\n",
            "Training food.yml: [####################] 100%\n",
            "Training gossip.yml: [####################] 100%\n",
            "Training greetings.yml: [####################] 100%\n",
            "Training health.yml: [####################] 100%\n",
            "Training history.yml: [####################] 100%\n",
            "Training humor.yml: [####################] 100%\n",
            "Training literature.yml: [####################] 100%\n",
            "Training money.yml: [####################] 100%\n",
            "Training movies.yml: [####################] 100%\n",
            "Training politics.yml: [####################] 100%\n",
            "Training psychology.yml: [####################] 100%\n",
            "Training science.yml: [####################] 100%\n",
            "Training sports.yml: [####################] 100%\n",
            "Training trivia.yml: [####################] 100%\n"
          ],
          "name": "stdout"
        }
      ]
    },
    {
      "cell_type": "code",
      "metadata": {
        "id": "OxgFNWaQT-ph",
        "colab_type": "code",
        "colab": {
          "base_uri": "https://localhost:8080/",
          "height": 493
        },
        "outputId": "60ca08ec-bd1a-4aa4-9f9b-1e73a2d8401d"
      },
      "source": [
        "while True:\n",
        "  message=input('me:')\n",
        "  if message.strip()!='Bye':\n",
        "    reply=x.get_response(message)\n",
        "\n",
        "  print('Robot:',reply)\n",
        "  if message.strip()=='Bye!':\n",
        "\n",
        "    print('Robot:Bye')\n",
        "    break  "
      ],
      "execution_count": null,
      "outputs": [
        {
          "output_type": "stream",
          "text": [
            "me:Hello\n",
            "Robot: Hi\n",
            "me:What's up?\n",
            "Robot: Not much.\n",
            "me:who are you\n",
            "Robot: I am just an artificial intelligence.\n",
            "me:ok\n",
            "Robot: I can't read.\n",
            "me:Ok\n",
            "Robot: the economic system in which all or most of the means of production and distribution, as land, factories, railroads, etc., are privately owned and operated for profit, originally under fully competitive conditions.\n",
            "me:You are intelligent\n",
            "Robot: Artificial Intelligence is the branch of engineering and science devoted to constructing machines that think.\n",
            "me:Hi\n",
            "Robot: How are you doing?\n",
            "me:Nothing\n",
            "Robot: Or something\n",
            "me:No\n",
            "Robot: that all depends on the actions of the central bank.\n",
            "me:No\n",
            "Robot: Yes I am inspired by commander Data's artificial personality.\n",
            "me:Ok\n",
            "Robot: what is thermodynamics\n",
            "me:What \n",
            "Robot: I am not actually capable of feeling jealousy, but I can learn how to emote as if I were.\n"
          ],
          "name": "stdout"
        }
      ]
    }
  ]
}